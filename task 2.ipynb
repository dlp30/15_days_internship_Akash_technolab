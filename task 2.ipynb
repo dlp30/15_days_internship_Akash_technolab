{
 "cells": [
  {
   "cell_type": "code",
   "execution_count": 1,
   "id": "5f64f838",
   "metadata": {},
   "outputs": [
    {
     "name": "stdout",
     "output_type": "stream",
     "text": [
      "hello friends\n"
     ]
    },
    {
     "data": {
      "text/plain": [
       "'multi line\\ncomments are written like this'"
      ]
     },
     "execution_count": 1,
     "metadata": {},
     "output_type": "execute_result"
    }
   ],
   "source": [
    "print(\"hello friends\")\n",
    "\n",
    "'''multi line\n",
    "comments are written like this'''"
   ]
  },
  {
   "cell_type": "code",
   "execution_count": 2,
   "id": "23019007",
   "metadata": {},
   "outputs": [],
   "source": [
    "#variables in python \n",
    "\n"
   ]
  },
  {
   "cell_type": "code",
   "execution_count": 3,
   "id": "a19dab02",
   "metadata": {},
   "outputs": [
    {
     "name": "stdout",
     "output_type": "stream",
     "text": [
      "10\n",
      "value of b  90.34\n",
      "my name is  Devanshi\n"
     ]
    }
   ],
   "source": [
    "a=10;\n",
    "b=90.34;\n",
    "c='Devanshi'\n",
    "print(a)\n",
    "print(\"value of b \",b)\n",
    "print(\"my name is \",c)"
   ]
  },
  {
   "cell_type": "code",
   "execution_count": 4,
   "id": "dbd9a16f",
   "metadata": {},
   "outputs": [
    {
     "name": "stdout",
     "output_type": "stream",
     "text": [
      "10\n",
      "value of b 90.45\n",
      "value of c Devanshi\n"
     ]
    }
   ],
   "source": [
    "#assigning multiple values\n",
    "\n",
    "a,b,c=10,90.45,'Devanshi'\n",
    "print(a)\n",
    "print(\"value of b\",b)\n",
    "print(\"value of c\",c)"
   ]
  },
  {
   "cell_type": "code",
   "execution_count": 5,
   "id": "8fd93fee",
   "metadata": {},
   "outputs": [
    {
     "name": "stdout",
     "output_type": "stream",
     "text": [
      "value of a: 10\n",
      "value of b: 10\n",
      "value of c: 10\n"
     ]
    }
   ],
   "source": [
    "#assigning same value to multiple variables\n",
    "\n",
    "a=b=c=10\n",
    "print(\"value of a:\",a)\n",
    "print(\"value of b:\",b)\n",
    "print(\"value of c:\",c)"
   ]
  },
  {
   "cell_type": "code",
   "execution_count": 6,
   "id": "0bb05ccb",
   "metadata": {},
   "outputs": [],
   "source": [
    "#datatypes in python"
   ]
  },
  {
   "cell_type": "code",
   "execution_count": 7,
   "id": "cf0f82a8",
   "metadata": {},
   "outputs": [
    {
     "name": "stdout",
     "output_type": "stream",
     "text": [
      "23 is typeof <class 'int'>\n"
     ]
    }
   ],
   "source": [
    "#number datatype\n",
    "\n",
    "a1=23\n",
    "print(a1, \"is typeof\" ,type(a1))"
   ]
  },
  {
   "cell_type": "code",
   "execution_count": 8,
   "id": "85db11b8",
   "metadata": {},
   "outputs": [
    {
     "name": "stdout",
     "output_type": "stream",
     "text": [
      "45 is int? True\n"
     ]
    }
   ],
   "source": [
    "a=45\n",
    "print(a,\"is int?\",isinstance(45,int))"
   ]
  },
  {
   "cell_type": "code",
   "execution_count": 9,
   "id": "8277e745",
   "metadata": {},
   "outputs": [
    {
     "name": "stdout",
     "output_type": "stream",
     "text": [
      "Devanshi Patel\n",
      "D\n",
      "vans\n",
      "Devans\n",
      "anshi Patel\n",
      "Devanshi PatelDevanshi Patel\n"
     ]
    }
   ],
   "source": [
    "#string datatype\n",
    "\n",
    "name=\"Devanshi Patel\"\n",
    "print(name)\n",
    "print(name[0])\n",
    "print(name[2:6])\n",
    "print(name[:6])\n",
    "print(name[3:])\n",
    "print(name*2)"
   ]
  },
  {
   "cell_type": "code",
   "execution_count": 10,
   "id": "d1f4c174",
   "metadata": {},
   "outputs": [
    {
     "name": "stdout",
     "output_type": "stream",
     "text": [
      "[34, 23.8, 'meena']\n",
      "meena\n"
     ]
    }
   ],
   "source": [
    "#list datatype\n",
    "list1=[34,23.8,'meena']\n",
    "print(list1)\n",
    "print(list1[2])"
   ]
  },
  {
   "cell_type": "code",
   "execution_count": 11,
   "id": "9a86ca9d",
   "metadata": {},
   "outputs": [
    {
     "name": "stdout",
     "output_type": "stream",
     "text": [
      "[30, 89, 44.6, 'rima', 'shah']\n"
     ]
    }
   ],
   "source": [
    "#tupple datatype\n",
    "tuple1=[30,89,44.6,'rima','shah']\n",
    "print(tuple1)"
   ]
  },
  {
   "cell_type": "code",
   "execution_count": 12,
   "id": "6aeed455",
   "metadata": {},
   "outputs": [
    {
     "name": "stdout",
     "output_type": "stream",
     "text": [
      "20\n",
      "happy\n"
     ]
    }
   ],
   "source": [
    "#dictionary\n",
    "d={1:20,2:'Devanshi',8:'happy',a:'world'}\n",
    "print(d[1])\n",
    "print(d[8])"
   ]
  },
  {
   "cell_type": "code",
   "execution_count": null,
   "id": "3efef4e7",
   "metadata": {},
   "outputs": [],
   "source": []
  }
 ],
 "metadata": {
  "kernelspec": {
   "display_name": "Python 3",
   "language": "python",
   "name": "python3"
  },
  "language_info": {
   "codemirror_mode": {
    "name": "ipython",
    "version": 3
   },
   "file_extension": ".py",
   "mimetype": "text/x-python",
   "name": "python",
   "nbconvert_exporter": "python",
   "pygments_lexer": "ipython3",
   "version": "3.9.5"
  }
 },
 "nbformat": 4,
 "nbformat_minor": 5
}
