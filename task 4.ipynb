{
 "cells": [
  {
   "cell_type": "code",
   "execution_count": 6,
   "id": "4f8105df",
   "metadata": {},
   "outputs": [
    {
     "name": "stdout",
     "output_type": "stream",
     "text": [
      "ans is 60\n"
     ]
    }
   ],
   "source": [
    "#Create a class cal1 that will calculate sum of three numbers. Create setdata() method which has three parameters that contain numbers. Create display() method that will calculate sum and display sum.\n",
    "\n",
    "class cal1:\n",
    "    def setdata(self,n1,n2,n3):\n",
    "        ans=n1+n2+n3\n",
    "        print(\"ans is\",ans)\n",
    "c=cal1()\n",
    "c.setdata(10,20,30)\n"
   ]
  },
  {
   "cell_type": "code",
   "execution_count": 8,
   "id": "691fcf2b",
   "metadata": {},
   "outputs": [
    {
     "name": "stdout",
     "output_type": "stream",
     "text": [
      "ans is 314.0\n"
     ]
    }
   ],
   "source": [
    "#Create a class cal2 that will calculate area of a circle. Create setdata() method that should take radius from the user. Create area() method that will calculate area . Create display() method that will display area .\n",
    "\n",
    "class cal2:\n",
    "    def setdata(self,r):\n",
    "        ans=3.14*r*r\n",
    "        print('ans is',ans)\n",
    "d=cal2()\n",
    "d.setdata(10)\n"
   ]
  },
  {
   "cell_type": "code",
   "execution_count": 4,
   "id": "82078226",
   "metadata": {},
   "outputs": [
    {
     "name": "stdout",
     "output_type": "stream",
     "text": [
      "interst is 60.0\n"
     ]
    }
   ],
   "source": [
    "#Create a class cal3 that will calculate simple interest. Create constructor method which has three parameters .Create calInterest() method that will calculate Interest . Create display() method that will display Interest\n",
    "\n",
    "class cal3:\n",
    "    def __init__(self,p,n,r):\n",
    "        self.p=p\n",
    "        self.n=n\n",
    "        self.r=r\n",
    "    def callInterest(self):\n",
    "        i=(self.p*self.n*self.r)/100\n",
    "        print(\"interst is\",i)\n",
    "e=cal3(10,20,30)\n",
    "e.callInterest()"
   ]
  },
  {
   "cell_type": "code",
   "execution_count": 7,
   "id": "955bbedd",
   "metadata": {},
   "outputs": [
    {
     "name": "stdout",
     "output_type": "stream",
     "text": [
      "square is 256\n"
     ]
    }
   ],
   "source": [
    "#Create a class cal4 that will calculate square of a number. Create setdata() method which has one parameters that contain number. Create display() method that will calculate sum.(Function should return value\n",
    "\n",
    "class cal4:\n",
    "    def setdata(self,n):\n",
    "        ans=n*n\n",
    "        print(\"square is\",ans)\n",
    "f=cal4()\n",
    "f.setdata(16)"
   ]
  },
  {
   "cell_type": "code",
   "execution_count": 8,
   "id": "e0a5c461",
   "metadata": {},
   "outputs": [
    {
     "name": "stdout",
     "output_type": "stream",
     "text": [
      "Rahul\n",
      "886012\n"
     ]
    }
   ],
   "source": [
    "#Consider an employee class, which contains fields such as name and designation. And a subclass, which contains a field salary. Write a program for inheriting this relation\n",
    "\n",
    "class Person( object ):    \n",
    "  \n",
    "        # __init__ is known as the constructor         \n",
    "        def __init__(self, name, idnumber):   \n",
    "                self.name = name\n",
    "                self.idnumber = idnumber\n",
    "        def display(self):\n",
    "                print(self.name)\n",
    "                print(self.idnumber)\n",
    "  \n",
    "\n",
    "class Employee( Person ):           \n",
    "        def __init__(self, name, idnumber, salary, post):\n",
    "                self.salary = salary\n",
    "                self.post = post\n",
    "  \n",
    "                # invoking the __init__ of the parent class \n",
    "                Person.__init__(self, name, idnumber) \n",
    "  \n",
    "                  \n",
    "# creation of an object variable or an instance\n",
    "a = Employee('Rahul', 886012, 200000, \"Intern\")    \n",
    "  \n",
    "# calling a function of the class Person using its instance\n",
    "a.display()"
   ]
  },
  {
   "cell_type": "code",
   "execution_count": 16,
   "id": "5f4949a3",
   "metadata": {},
   "outputs": [
    {
     "name": "stdout",
     "output_type": "stream",
     "text": [
      "area is 200\n"
     ]
    }
   ],
   "source": [
    "#Create a class cal5 that will calculate area of a rectangle. Create constructor method which has two parameters .Create calArea() method that will calculate area of a rectangle. Create display() method that will display area of a rectangle.\n",
    "\n",
    "class cal5:\n",
    "    def __init__(self,l,b):\n",
    "        self.l=l\n",
    "        self.b=b\n",
    "        \n",
    "    def callArea(self):\n",
    "        a=self.l*self.b\n",
    "        print(\"area is\",a)\n",
    "f=cal5(10,20)\n",
    "f.callArea()\n",
    "    "
   ]
  },
  {
   "cell_type": "code",
   "execution_count": 18,
   "id": "ca3c6423",
   "metadata": {},
   "outputs": [
    {
     "name": "stdout",
     "output_type": "stream",
     "text": [
      "area is 100\n"
     ]
    }
   ],
   "source": [
    "#Create a class cal6 that will calculate area of a square. Create setdata() method that should take length from the user. Create area() method that will calculate area . Create display() method that will display area .\n",
    "\n",
    "class cal6:\n",
    "    def setdata(self,l):\n",
    "        s=l*l\n",
    "        print(\"area is\",s)\n",
    "s=cal6()\n",
    "s.setdata(10)"
   ]
  },
  {
   "cell_type": "code",
   "execution_count": null,
   "id": "1d7d4c3e",
   "metadata": {},
   "outputs": [],
   "source": []
  }
 ],
 "metadata": {
  "kernelspec": {
   "display_name": "Python 3",
   "language": "python",
   "name": "python3"
  },
  "language_info": {
   "codemirror_mode": {
    "name": "ipython",
    "version": 3
   },
   "file_extension": ".py",
   "mimetype": "text/x-python",
   "name": "python",
   "nbconvert_exporter": "python",
   "pygments_lexer": "ipython3",
   "version": "3.9.5"
  }
 },
 "nbformat": 4,
 "nbformat_minor": 5
}
