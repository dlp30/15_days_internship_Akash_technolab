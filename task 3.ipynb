{
 "cells": [
  {
   "cell_type": "code",
   "execution_count": 5,
   "id": "3ce6b8ee",
   "metadata": {},
   "outputs": [
    {
     "name": "stdout",
     "output_type": "stream",
     "text": [
      "Enter number: 10\n",
      "Enter number: 23\n",
      "Enter number: 98\n",
      "Enter number: 98\n",
      "Enter number: 45\n",
      "Average of numbers = 54.8\n"
     ]
    }
   ],
   "source": [
    "#1.Calculate average of 5 numbers.\n",
    "\n",
    "total_sum = 0\n",
    "\n",
    "for n in range (5):\n",
    "\n",
    "    num = float(input('Enter number: '))\n",
    "    total_sum += num\n",
    "\n",
    "avg = total_sum / 5\n",
    "\n",
    "\n",
    "print('Average of numbers =', avg)\n",
    "\n"
   ]
  },
  {
   "cell_type": "code",
   "execution_count": 7,
   "id": "30f87620",
   "metadata": {},
   "outputs": [
    {
     "name": "stdout",
     "output_type": "stream",
     "text": [
      "Enter a number: 22\n",
      "22 is Even number\n"
     ]
    }
   ],
   "source": [
    "#2.Check whether number is even or odd.\n",
    "\n",
    "num = int(input(\"Enter a number: \"))\n",
    "if (num % 2) == 0:\n",
    "    print(\"{0} is Even number\". format(num))\n",
    "else:\n",
    "    print(\"{0} is Odd number\". format(num))\n"
   ]
  },
  {
   "cell_type": "code",
   "execution_count": 9,
   "id": "836b21ad",
   "metadata": {},
   "outputs": [
    {
     "name": "stdout",
     "output_type": "stream",
     "text": [
      "Enter a year: 2011\n",
      "2011 is not leap year\n"
     ]
    }
   ],
   "source": [
    "#3.Take a year and check whether it is leap year or not\n",
    "\n",
    "year = int(input(\"Enter a year: \"))\n",
    "if (year % 4) == 0:\n",
    "    print(\"{0} is leap year\". format(year))\n",
    "else:\n",
    "    print(\"{0} is not leap year\". format(year))"
   ]
  },
  {
   "cell_type": "code",
   "execution_count": 10,
   "id": "58c1b004",
   "metadata": {},
   "outputs": [
    {
     "name": "stdout",
     "output_type": "stream",
     "text": [
      "Enter a number: -10\n",
      "-10.0 is negative number\n"
     ]
    }
   ],
   "source": [
    "#4.Take a number and check whether it is zero, positive or negative.\n",
    "\n",
    "num = float(input(\"Enter a number: \"))  \n",
    "  \n",
    "if num > 0:  \n",
    " print(\"{0} is a positive number\".format(num))  \n",
    "elif num == 0:  \n",
    "   print(\"{0} is zero\".format(num))   \n",
    "else:  \n",
    "   print(\"{0} is negative number\".format(num))"
   ]
  },
  {
   "cell_type": "code",
   "execution_count": 15,
   "id": "f33d2a0e",
   "metadata": {},
   "outputs": [
    {
     "name": "stdout",
     "output_type": "stream",
     "text": [
      "Enter the first number: 12\n",
      "Enter the second number: 12\n",
      "both are equal\n"
     ]
    }
   ],
   "source": [
    "#5.Take 2 numbers and display greatest number. (Also check equal number condition)\n",
    "\n",
    "a = int(input(\"Enter the first number: \"))\n",
    "b = int(input(\"Enter the second number: \"))\n",
    "if(a > b):\n",
    "  print(a, \"is greater\")\n",
    "elif (a==b):\n",
    "  print(\"both are equal\")\n",
    "else:\n",
    "    print(b, \"is greater\")"
   ]
  },
  {
   "cell_type": "code",
   "execution_count": 16,
   "id": "c306ff9a",
   "metadata": {},
   "outputs": [
    {
     "name": "stdout",
     "output_type": "stream",
     "text": [
      "Enter a number: 5\n",
      "The factorial of 5 is 120\n"
     ]
    }
   ],
   "source": [
    "#6.Take a number and find factorial of that number.\n",
    "\n",
    "num = int(input(\"Enter a number: \"))\n",
    "\n",
    "factorial = 1\n",
    "\n",
    "if num < 0:\n",
    "   print(\"Sorry, factorial does not exist for negative numbers\")\n",
    "elif num == 0:\n",
    "   print(\"The factorial of 0 is 1\")\n",
    "else:\n",
    "   for i in range(1,num + 1):\n",
    "       factorial = factorial*i\n",
    "   print(\"The factorial of\",num,\"is\",factorial)\n"
   ]
  },
  {
   "cell_type": "code",
   "execution_count": 21,
   "id": "5bdd0d8d",
   "metadata": {},
   "outputs": [
    {
     "name": "stdout",
     "output_type": "stream",
     "text": [
      "Enter value of x: 12\n",
      "Enter value of y: 21\n",
      "The value of x after swapping: 21\n",
      "The value of y after swapping: 12\n"
     ]
    }
   ],
   "source": [
    "#7.Write a program to swap 2 numbers using third variable.\n",
    "\n",
    "x = input('Enter value of x: ')\n",
    "y = input('Enter value of y: ')\n",
    "\n",
    "\n",
    "temp = x\n",
    "x = y\n",
    "y = temp\n",
    "\n",
    "print('The value of x after swapping: {}'.format(x))\n",
    "print('The value of y after swapping: {}'.format(y))"
   ]
  },
  {
   "cell_type": "code",
   "execution_count": 22,
   "id": "469fba30",
   "metadata": {},
   "outputs": [
    {
     "name": "stdout",
     "output_type": "stream",
     "text": [
      "Enter the first number: 54\n",
      "Enter the second number: 41\n",
      "41 is lesser number\n"
     ]
    }
   ],
   "source": [
    "#8.Take 2 numbers and find smallest number.\n",
    "\n",
    "a = int(input(\"Enter the first number: \"))\n",
    "b = int(input(\"Enter the second number: \"))\n",
    "if(a < b):\n",
    "  print(a, \"is lesser number\")\n",
    "else:\n",
    "    print(b, \"is lesser number\")"
   ]
  },
  {
   "cell_type": "code",
   "execution_count": 3,
   "id": "da618331",
   "metadata": {},
   "outputs": [
    {
     "name": "stdout",
     "output_type": "stream",
     "text": [
      "Enter value of x: 14\n",
      "Number is even and less than 100\n"
     ]
    }
   ],
   "source": [
    "#9.Take a number check if a number is less than 100 or not. If it is less than 100 then check if it is odd or even.\n",
    "\n",
    "x = int(input('Enter value of x: '))\n",
    "if x<100:\n",
    "    if x%2==0:\n",
    "        print(\"Number is even and less than 100\")\n",
    "    else:\n",
    "        print(\"number is odd and less than 100\")\n",
    "else:\n",
    "    print(\"number is greater than 100\")\n"
   ]
  },
  {
   "cell_type": "code",
   "execution_count": 6,
   "id": "7f5bce22",
   "metadata": {},
   "outputs": [
    {
     "name": "stdout",
     "output_type": "stream",
     "text": [
      "Enter value of x: 6\n",
      "square of number is  36\n"
     ]
    }
   ],
   "source": [
    "#10.Take a number to print the square of a number if it is less than 10.\n",
    "\n",
    "x = int(input('Enter value of x: '))\n",
    "if x<10:\n",
    "    square=x*x\n",
    "    print(\"square of number is \",square)\n",
    "else:\n",
    "    print(\"number is greater than 10\")"
   ]
  },
  {
   "cell_type": "code",
   "execution_count": 7,
   "id": "d85585fa",
   "metadata": {},
   "outputs": [
    {
     "name": "stdout",
     "output_type": "stream",
     "text": [
      "Enter a number: 24\n",
      "positive number\n"
     ]
    }
   ],
   "source": [
    "#11.Take a number and check whether it is zero, positive or negative using nested IF…ELSE statement \n",
    "\n",
    "num = float(input(\"Enter a number: \"))  \n",
    "  \n",
    "if num > 0:\n",
    "    if num==0:\n",
    "        print(\"zero\")\n",
    "    else:\n",
    "        print(\"positive number\")   \n",
    "else:  \n",
    "    print(\"negative number\")\n",
    "\n"
   ]
  },
  {
   "cell_type": "code",
   "execution_count": 10,
   "id": "793c3772",
   "metadata": {},
   "outputs": [
    {
     "name": "stdout",
     "output_type": "stream",
     "text": [
      "Enter the first number: 54\n",
      "Enter the second number: 21\n",
      "Enter the third number: 97\n",
      "97 is greatest number\n"
     ]
    }
   ],
   "source": [
    "#12.Take 3 numbers and find greatest number using nested IF….ELSE statement\n",
    "\n",
    "a = int(input(\"Enter the first number: \"))\n",
    "b = int(input(\"Enter the second number: \"))\n",
    "c = int(input(\"Enter the third number: \"))\n",
    "if a>b:\n",
    "    if a>c:\n",
    "        print(a,\"greatest number\")\n",
    "    if b>c:\n",
    "        print(b,\"is greatest number\")\n",
    "else:\n",
    "    print(c,\"is greatest number\")"
   ]
  },
  {
   "cell_type": "code",
   "execution_count": 14,
   "id": "cf0c145d",
   "metadata": {},
   "outputs": [
    {
     "name": "stdout",
     "output_type": "stream",
     "text": [
      "Enter the first number: 56\n",
      "Enter the second number: 12\n",
      "Enter the third number: 97\n",
      "12 is smallest number\n"
     ]
    }
   ],
   "source": [
    "#13.Take 3 numbers and find smallest number using logical operator.\n",
    "\n",
    "a = int(input(\"Enter the first number: \"))\n",
    "b = int(input(\"Enter the second number: \"))\n",
    "c = int(input(\"Enter the third number: \"))\n",
    "if a<b and a<c:\n",
    "        print(a,\"smallest number\")\n",
    "if b<c:\n",
    "        print(b,\"is smallest number\")\n",
    "else:\n",
    "    print(c,\"is smallest number\")"
   ]
  },
  {
   "cell_type": "code",
   "execution_count": 15,
   "id": "2c62cb3b",
   "metadata": {},
   "outputs": [
    {
     "name": "stdout",
     "output_type": "stream",
     "text": [
      "Enter value of x: 65\n",
      "Enter value of y: 12\n",
      "Before swapping: \n",
      "Value of x :  65  and y :  12\n",
      "After swapping: \n",
      "Value of x :  12  and y :  65\n"
     ]
    }
   ],
   "source": [
    "#14.Write a program to swap 2 numbers without taking third variable.\n",
    "\n",
    "x = int(input('Enter value of x: '))\n",
    "y = int(input('Enter value of y: '))\n",
    " \n",
    "print (\"Before swapping: \")\n",
    "print(\"Value of x : \", x, \" and y : \", y)\n",
    "\n",
    "x, y = y, x\n",
    " \n",
    "print (\"After swapping: \")\n",
    "print(\"Value of x : \", x, \" and y : \", y)"
   ]
  },
  {
   "cell_type": "code",
   "execution_count": 1,
   "id": "7dfe144b",
   "metadata": {},
   "outputs": [
    {
     "name": "stdout",
     "output_type": "stream",
     "text": [
      "Enter starting number : 30\n",
      "Enter ending number : 0\n",
      "30\n",
      "27\n",
      "24\n",
      "21\n",
      "18\n",
      "15\n",
      "12\n",
      "9\n",
      "6\n",
      "3\n",
      "0\n"
     ]
    }
   ],
   "source": [
    "#15.Take starting number and ending number from the user and print following series.\n",
    "#Output :-\n",
    "#Enter starting number : 30\n",
    "#Enter ending number : 0\n",
    "#30,27,24..... 0\n",
    "\n",
    "start = int(input(\"Enter starting number : \"))\n",
    "end = int(input(\"Enter ending number : \"))\n",
    "\n",
    "val = start\n",
    "print(val)\n",
    "\n",
    "while(val > end):\n",
    "    val = val - 3\n",
    "    print(val)\n",
    "\n",
    "\n",
    "\n",
    "\n"
   ]
  },
  {
   "cell_type": "code",
   "execution_count": 2,
   "id": "afcd75e5",
   "metadata": {},
   "outputs": [
    {
     "name": "stdout",
     "output_type": "stream",
     "text": [
      "Enter starting number : 30\n",
      "Enter ending number : 0\n",
      "30\n",
      "27\n",
      "24\n",
      "21\n",
      "18\n",
      "15\n",
      "12\n",
      "9\n",
      "6\n",
      "3\n",
      "0\n"
     ]
    }
   ],
   "source": [
    "#15.Take starting number and ending number from the user and print following series.\n"
   ]
  },
  {
   "cell_type": "code",
   "execution_count": null,
   "id": "def623b8",
   "metadata": {},
   "outputs": [],
   "source": []
  }
 ],
 "metadata": {
  "kernelspec": {
   "display_name": "Python 3",
   "language": "python",
   "name": "python3"
  },
  "language_info": {
   "codemirror_mode": {
    "name": "ipython",
    "version": 3
   },
   "file_extension": ".py",
   "mimetype": "text/x-python",
   "name": "python",
   "nbconvert_exporter": "python",
   "pygments_lexer": "ipython3",
   "version": "3.9.5"
  }
 },
 "nbformat": 4,
 "nbformat_minor": 5
}
